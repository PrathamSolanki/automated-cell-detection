{
  "nbformat": 4,
  "nbformat_minor": 0,
  "metadata": {
    "colab": {
      "name": "Sliding Window.ipynb",
      "provenance": [],
      "collapsed_sections": []
    },
    "kernelspec": {
      "name": "python3",
      "display_name": "Python 3"
    }
  },
  "cells": [
    {
      "cell_type": "code",
      "metadata": {
        "id": "SF6TpneAWnFx",
        "colab_type": "code",
        "colab": {}
      },
      "source": [
        "import numpy as np\n",
        "import imutils\n",
        "import time\n",
        "import cv2\n",
        "from google.colab.patches import cv2_imshow"
      ],
      "execution_count": 0,
      "outputs": []
    },
    {
      "cell_type": "code",
      "metadata": {
        "id": "0PTfwELAiHXx",
        "colab_type": "code",
        "colab": {}
      },
      "source": [
        "cell1 = cv2.imread('cell_type_1.png')"
      ],
      "execution_count": 0,
      "outputs": []
    },
    {
      "cell_type": "code",
      "metadata": {
        "id": "p8KFUSYfiaR4",
        "colab_type": "code",
        "colab": {
          "base_uri": "https://localhost:8080/",
          "height": 35
        },
        "outputId": "2806df36-9857-4673-9428-d73a536b07b9"
      },
      "source": [
        "cell1.shape"
      ],
      "execution_count": 27,
      "outputs": [
        {
          "output_type": "execute_result",
          "data": {
            "text/plain": [
              "(23, 23, 3)"
            ]
          },
          "metadata": {
            "tags": []
          },
          "execution_count": 27
        }
      ]
    },
    {
      "cell_type": "code",
      "metadata": {
        "id": "uZJOMsZEW11g",
        "colab_type": "code",
        "colab": {}
      },
      "source": [
        "def pyramid(image, scale=1.5, minSize=(20, 20)):\n",
        "\t# yield the original image\n",
        "\tyield image\n",
        "\t# keep looping over the pyramid\n",
        "\twhile True:\n",
        "\t\t# compute the new dimensions of the image and resize it\n",
        "\t\tw = int(image.shape[1] / scale)\n",
        "\t\timage = imutils.resize(image, width=w)\n",
        "\t\t# if the resized image does not meet the supplied minimum\n",
        "\t\t# size, then stop constructing the pyramid\n",
        "\t\tif image.shape[0] < minSize[1] or image.shape[1] < minSize[0]:\n",
        "\t\t\tbreak\n",
        "\t\t# yield the next image in the pyramid\n",
        "\t\tyield image\n",
        "\n",
        "\n",
        "def sliding_window(image, stepSize, windowSize):\n",
        "\t# slide a window across the image\n",
        "\tfor y in range(0, image.shape[0], stepSize):\n",
        "\t\tfor x in range(0, image.shape[1], stepSize):\n",
        "\t\t\t# yield the current window\n",
        "\t\t\tyield (x, y, image[y:y + windowSize[1], x:x + windowSize[0]])"
      ],
      "execution_count": 0,
      "outputs": []
    },
    {
      "cell_type": "code",
      "metadata": {
        "id": "b5hBjVjPW5B1",
        "colab_type": "code",
        "colab": {}
      },
      "source": [
        "# load the image and define the window width and height\n",
        "image = cv2.imread('black_bubbles_1.jpg')\n",
        "(winW, winH) = (23, 23)"
      ],
      "execution_count": 0,
      "outputs": []
    },
    {
      "cell_type": "code",
      "metadata": {
        "id": "g7xHoU1DXiRj",
        "colab_type": "code",
        "colab": {}
      },
      "source": [
        "# loop over the image pyramid\n",
        "for resized in pyramid(image, scale=1.5):\n",
        "\t# loop over the sliding window for each layer of the pyramid\n",
        "\tfor (x, y, window) in sliding_window(resized, stepSize=1, windowSize=(winW, winH)):\n",
        "\t\t# if the window does not meet our desired window size, ignore it\n",
        "\t\tif window.shape[0] != winH or window.shape[1] != winW:\n",
        "\t\t\tcontinue\n",
        "\t\t# THIS IS WHERE YOU WOULD PROCESS YOUR WINDOW, SUCH AS APPLYING A\n",
        "\t\t# MACHINE LEARNING CLASSIFIER TO CLASSIFY THE CONTENTS OF THE\n",
        "\t\t# WINDOW\n",
        "\t\t# since we do not have a classifier, we'll just draw the window\n",
        "\t\tclone = resized.copy()\n",
        "\t\tcv2.rectangle(clone, (x, y), (x + winW, y + winH), (0, 255, 0), 2)\n",
        "\t\tcv2_imshow(clone)\n",
        "\t\tcv2.waitKey(1)\n",
        "\t\ttime.sleep(0.025)"
      ],
      "execution_count": 0,
      "outputs": []
    }
  ]
}