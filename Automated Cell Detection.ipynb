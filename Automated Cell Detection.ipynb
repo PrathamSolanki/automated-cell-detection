{
  "nbformat": 4,
  "nbformat_minor": 0,
  "metadata": {
    "colab": {
      "name": "Definiens_SOLANKI.ipynb",
      "provenance": []
    },
    "kernelspec": {
      "name": "python3",
      "display_name": "Python 3"
    }
  },
  "cells": [
    {
      "cell_type": "code",
      "metadata": {
        "id": "WMeCOQ-a0Tic",
        "colab_type": "code",
        "colab": {}
      },
      "source": [
        "import os\n",
        "import glob\n",
        "from PIL import Image, ImageDraw\n",
        "import xml.etree.ElementTree as ET\n",
        "import torch\n",
        "from torchvision import transforms\n",
        "from torch.utils.data import Dataset"
      ],
      "execution_count": 0,
      "outputs": []
    },
    {
      "cell_type": "code",
      "metadata": {
        "id": "SDV3Rf_I2IIX",
        "colab_type": "code",
        "colab": {}
      },
      "source": [
        "class TissueDataset(Dataset): # create dataset class\n",
        "\n",
        "    def __init__(self, img_dir='data/images', annotation_dir='data/annotations', transform=None):\n",
        "        self.img_dir = img_dir # what directory are the images in\n",
        "        self.annotation_dir = annotation_dir # what directory are the annotations in\n",
        "        self.transform = transform # what transforms were passed to the initialiser\n",
        "\n",
        "        self.img_names = os.listdir(img_dir) # list all files in the img folder\n",
        "        self.img_names = [ filename for filename in self.img_names if filename.endswith( 'png' ) ]\n",
        "        self.img_names.sort() # order the images alphabetically\n",
        "        self.img_names = [os.path.join(img_dir, img_name) for img_name in self.img_names] # join folder and file names\n",
        "\n",
        "        self.annotation_names = os.listdir(annotation_dir) # list all annotation files\n",
        "        self.annotation_names = [ filename for filename in self.annotation_names if filename.endswith( 'xml' ) ]\n",
        "        self.annotation_names.sort() # order annotation files alphabetically\n",
        "        self.annotation_names = [os.path.join(annotation_dir, ann_name) for ann_name in self.annotation_names] # join folder and file names\n",
        "\n",
        "\n",
        "    def __getitem__(self, idx):\n",
        "        img_name = self.img_names[idx] # get the path of the image at that index\n",
        "        img = Image.open(img_name) # open the image using the path\n",
        "\n",
        "        annotation_name = self.annotation_names[idx] # get the path to the label file\n",
        "        annotation_tree = ET.parse(annotation_name) # use xml parser to load the file\n",
        "        bndbox_xml = annotation_tree.find(\"object\").find(\"bndbox\") # get the tag which contains our labels\n",
        "        \n",
        "        # get the x and y values for the corners of the rectangle\n",
        "        xmax = int(bndbox_xml.find('xmax').text) \n",
        "        ymax = int(bndbox_xml.find('ymax').text)\n",
        "        xmin = int(bndbox_xml.find('xmin').text)\n",
        "        ymin = int(bndbox_xml.find('ymin').text)\n",
        "\n",
        "        # Convert from corner co-ordinates format into center co-ordinate, width and height format\n",
        "        w = xmax - xmin #\n",
        "        h = ymax - ymin\n",
        "        x = int(xmin + w / 2)\n",
        "        y = int(ymin + h / 2)\n",
        "\n",
        "        # Normlise the labels so the values are expressed as a proportion of the whole image\n",
        "        x /= img.size[0]\n",
        "        w /= img.size[0]\n",
        "        y /= img.size[1]\n",
        "        h /= img.size[1]\n",
        "\n",
        "        bndbox = (x, y, w, h) # create tuple of bounding box dimensions\n",
        "        \n",
        "        if self.transform: # if any transforms were given to initialiser\n",
        "            img = self.transform(img) # apply any transforms\n",
        "\n",
        "        bndbox = torch.tensor(bndbox) # convert bounding box tuple to tensor\n",
        "\n",
        "        return img, bndbox\n",
        "\n",
        "\n",
        "    def __len__(self):\n",
        "        return len(self.img_names)"
      ],
      "execution_count": 0,
      "outputs": []
    },
    {
      "cell_type": "code",
      "metadata": {
        "id": "PPHjcqiR4aP0",
        "colab_type": "code",
        "colab": {}
      },
      "source": [
        "tissueDataset = TissueDataset(transform=transforms.ToTensor())"
      ],
      "execution_count": 0,
      "outputs": []
    },
    {
      "cell_type": "code",
      "metadata": {
        "id": "nROtBG8h5QLH",
        "colab_type": "code",
        "colab": {
          "base_uri": "https://localhost:8080/",
          "height": 35
        },
        "outputId": "be26105c-af6b-4447-d0ce-2e006fb4ddbe"
      },
      "source": [
        "print('len dataset:', len(tissueDataset))"
      ],
      "execution_count": 39,
      "outputs": [
        {
          "output_type": "stream",
          "text": [
            "len dataset: 1\n"
          ],
          "name": "stdout"
        }
      ]
    },
    {
      "cell_type": "code",
      "metadata": {
        "id": "6cCbCg-W5UKA",
        "colab_type": "code",
        "colab": {}
      },
      "source": [
        "# Convert from  center co-ordinate, width and height format into corner co-ordinates format\n",
        "def unpack_bndbox(bndbox, img):\n",
        "    x, y, w, h = tuple(bndbox)\n",
        "    x *= img.size[0] \n",
        "    w *= img.size[0]\n",
        "    y *= img.size[1]\n",
        "    h *= img.size[1]\n",
        "    xmin = x - w / 2\n",
        "    xmax = x + w / 2\n",
        "    ymin = y - h / 2\n",
        "    ymax = y + h / 2\n",
        "    bndbox = [xmin, ymin, xmax, ymax]\n",
        "    return bndbox"
      ],
      "execution_count": 0,
      "outputs": []
    },
    {
      "cell_type": "code",
      "metadata": {
        "id": "TJkKSel35bQB",
        "colab_type": "code",
        "colab": {}
      },
      "source": [
        "def show(batch, pred_bndbox=None):\n",
        "    img, bndbox = batch\n",
        "\n",
        "    img = transforms.ToPILImage()(img)\n",
        "    img = transforms.Resize((512, 512))(img)\n",
        "    draw = ImageDraw.Draw(img)\n",
        "\n",
        "    bndbox = unpack_bndbox(bndbox, img)\n",
        "    draw.rectangle(bndbox)\n",
        "    if pred_bndbox is not None:\n",
        "        pred_bndbox = unpack_bndbox(pred_bndbox, img)\n",
        "        draw.rectangle(pred_bndbox, outline=1000)\n",
        "    img.show()"
      ],
      "execution_count": 0,
      "outputs": []
    },
    {
      "cell_type": "code",
      "metadata": {
        "id": "fn4R5inU5dUR",
        "colab_type": "code",
        "colab": {}
      },
      "source": [
        "show(tissueDataset[0])"
      ],
      "execution_count": 0,
      "outputs": []
    }
  ]
}